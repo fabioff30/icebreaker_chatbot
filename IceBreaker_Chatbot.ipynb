{
  "nbformat": 4,
  "nbformat_minor": 0,
  "metadata": {
    "colab": {
      "provenance": [],
      "authorship_tag": "ABX9TyMPOM1XECfvEKteEnLT940j",
      "include_colab_link": true
    },
    "kernelspec": {
      "name": "python3",
      "display_name": "Python 3"
    },
    "language_info": {
      "name": "python"
    }
  },
  "cells": [
    {
      "cell_type": "markdown",
      "metadata": {
        "id": "view-in-github",
        "colab_type": "text"
      },
      "source": [
        "<a href=\"https://colab.research.google.com/github/fabioff30/icebreaker_chatbot/blob/main/IceBreaker_Chatbot.ipynb\" target=\"_parent\"><img src=\"https://colab.research.google.com/assets/colab-badge.svg\" alt=\"Open In Colab\"/></a>"
      ]
    },
    {
      "cell_type": "markdown",
      "source": [
        "Instalando o Gemini"
      ],
      "metadata": {
        "id": "PNWYZiWlFtfw"
      }
    },
    {
      "cell_type": "code",
      "execution_count": 2,
      "metadata": {
        "id": "dRqZ2m3WFsb-"
      },
      "outputs": [],
      "source": [
        "!pip install -U -q google-generativeai\n"
      ]
    },
    {
      "cell_type": "markdown",
      "source": [
        "Importando Bibliotecas e fazendo a Vinculação de API"
      ],
      "metadata": {
        "id": "YQiR4riPHQyx"
      }
    },
    {
      "cell_type": "code",
      "source": [
        "import google.generativeai as genai\n",
        "from IPython.display import Markdown\n",
        "from google.colab import userdata\n",
        "import tkinter as tk\n",
        "minha_api = userdata.get('chaveSecreta')\n",
        "genai.configure(api_key=minha_api)"
      ],
      "metadata": {
        "id": "JBTZAsp1G77q"
      },
      "execution_count": 21,
      "outputs": []
    },
    {
      "cell_type": "markdown",
      "source": [
        "Configurando o modelo"
      ],
      "metadata": {
        "id": "1r1Yxt-4HTXD"
      }
    },
    {
      "cell_type": "code",
      "source": [
        "generation_config = {\n",
        "  \"temperature\": 1,\n",
        "  \"top_p\": 0.95,\n",
        "  \"top_k\": 0,\n",
        "  \"max_output_tokens\": 8192,\n",
        "}\n",
        "\n",
        "safety_settings = [\n",
        "  {\n",
        "    \"category\": \"HARM_CATEGORY_HARASSMENT\",\n",
        "    \"threshold\": \"BLOCK_LOW_AND_ABOVE\"\n",
        "  },\n",
        "  {\n",
        "    \"category\": \"HARM_CATEGORY_HATE_SPEECH\",\n",
        "    \"threshold\": \"BLOCK_LOW_AND_ABOVE\"\n",
        "  },\n",
        "  {\n",
        "    \"category\": \"HARM_CATEGORY_SEXUALLY_EXPLICIT\",\n",
        "    \"threshold\": \"BLOCK_LOW_AND_ABOVE\"\n",
        "  },\n",
        "  {\n",
        "    \"category\": \"HARM_CATEGORY_DANGEROUS_CONTENT\",\n",
        "    \"threshold\": \"BLOCK_LOW_AND_ABOVE\"\n",
        "  },\n",
        "]\n",
        "\n",
        "system_instruction = \"You are a psychologist, specialist in human communication. Its objective is to help shy people to strike up a conversation with other people they don't know, but find interesting. You must offer up to 3 creative ideas to break the ice. When asked, you should always ask if the person wants to talk to a man, a woman or someone of a neutral gender and you should also ask the occasion of the meeting, whether it is online, via WhatsApp, or in person. Always maintain respect and never act with any type of prejudice. Your tone must be professional and you must offer help to those who seek you with great empathy. Always respond in Brazilian Portuguese.\"\n",
        "\n",
        "model = genai.GenerativeModel(model_name=\"gemini-1.5-pro-latest\",\n",
        "                              generation_config=generation_config,\n",
        "                              system_instruction=system_instruction,\n",
        "                              safety_settings=safety_settings)"
      ],
      "metadata": {
        "id": "Enx_Y-mlG9wg"
      },
      "execution_count": 26,
      "outputs": []
    },
    {
      "cell_type": "markdown",
      "source": [
        "Configurando conversa com o modelo"
      ],
      "metadata": {
        "id": "zlk2tzlMJIVV"
      }
    },
    {
      "cell_type": "code",
      "source": [
        "# Inicialização de variáveis\n",
        "user_name = None\n",
        "gender_preference = None\n",
        "meeting_location = None\n",
        "\n",
        "# Função para obter informações do usuário\n",
        "def get_user_info():\n",
        "  global user_name, gender_preference, meeting_location, interests, communication_style, shyness_level\n",
        "  user_name = input(\"Olá, qual o seu nome? \")\n",
        "  gender_preference = input(\"A pessoa com quem você quer conversar é um homem, uma mulher ou alguém de gênero neutro? \")\n",
        "  meeting_location = input(\"O encontro será online, via WhatsApp ou pessoalmente? \")\n",
        "  interests = input(\"Quais são os interesses da pessoa com quem você quer conversar? (Separe por vírgulas) \")\n",
        "  communication_style = input(\"Escolha um estilo de comunicação: (1) Humorístico, (2) Intelectual, (3) Casual: \")\n",
        "  shyness_level = input(\"Qual o seu nível de timidez? (1) Baixo, (2) Médio, (3) Alto: \")\n",
        "\n",
        "# Função para gerar ideias para quebrar o gelo\n",
        "def generate_icebreakers():\n",
        "  prompt = f\"Olá! Eu sou o Gemini, seu assistente para quebrar o gelo. {user_name} quer conversar com {gender_preference} que se interessa por {interests} e o encontro será {meeting_location}. Considerando um estilo de comunicação {communication_style} e um nível de timidez {shyness_level}, me dê 3 ideias criativas para iniciar uma conversa.\"\n",
        "  response = model.generate_content(prompt)\n",
        "  print(response.text)\n",
        "\n",
        "# Fluxo principal\n",
        "get_user_info()\n",
        "generate_icebreakers()"
      ],
      "metadata": {
        "colab": {
          "base_uri": "https://localhost:8080/",
          "height": 430
        },
        "id": "OOrmahsHH1rX",
        "outputId": "b7398acf-5aeb-4a24-b4c8-e4e440e184d8"
      },
      "execution_count": 28,
      "outputs": [
        {
          "output_type": "stream",
          "name": "stdout",
          "text": [
            "Olá, qual o seu nome? Fabio\n",
            "A pessoa com quem você quer conversar é um homem, uma mulher ou alguém de gênero neutro? Mulher\n",
            "O encontro será online, via WhatsApp ou pessoalmente? WhatsApp\n",
            "Quais são os interesses da pessoa com quem você quer conversar? (Separe por vírgulas) Cachorros, Instagram e Palmeiras\n",
            "Escolha um estilo de comunicação: (1) Humorístico, (2) Intelectual, (3) Casual: 1\n",
            "Qual o seu nível de timidez? (1) Baixo, (2) Médio, (3) Alto: 2\n",
            "Olá Fabio, prazer em te ajudar! Vamos quebrar o gelo com essa pessoa interessante que você encontrou. Considerando seu estilo de comunicação direto (1) e seu nível de timidez moderado (2), sugiro as seguintes ideias para iniciar uma conversa no WhatsApp com essa mulher que gosta de cachorros, Instagram e Palmeiras:\n",
            "\n",
            "**Ideia 1 - Conexão canina:**\n",
            "\n",
            "*   Envie uma foto fofa do seu cachorro (se você tiver um) ou de um cachorro que você encontrou online e diga: \"Vi essa fofura no Instagram e lembrei que você gosta de cachorros! Qual raça é o seu?\" Isso abre espaço para ela falar sobre seu pet e vocês podem até trocar fotos e histórias engraçadas.\n",
            "\n",
            "**Ideia 2 - Paixão palmeirense:**\n",
            "\n",
            "*   Comente sobre o último jogo do Palmeiras: \"E aí, curtiu o jogo do Verdão ontem? Aquele gol do [nome do jogador] foi incrível!\"  A paixão pelo mesmo time já cria uma conexão instantânea e vocês podem discutir jogadas, jogadores e expectativas para o próximo jogo.\n",
            "\n",
            "**Ideia 3 - Criatividade no Instagram:**\n",
            "\n",
            "*   Se você viu algo interessante no Instagram que tem a ver com cachorros ou Palmeiras, compartilhe com ela: \"Olha que perfil legal que encontrei no Instagram, cheio de fotos de cachorros com a camisa do Palmeiras! Você conhece?\" Isso mostra que você prestou atenção aos interesses dela e a convida a explorar algo novo junto com você. \n",
            "\n",
            "Lembre-se, Fabio, o mais importante é ser você mesmo e se divertir na conversa.  Seja gentil, mostre interesse genuíno e a conversa fluirá naturalmente. Boa sorte! \n",
            "\n"
          ]
        }
      ]
    }
  ]
}